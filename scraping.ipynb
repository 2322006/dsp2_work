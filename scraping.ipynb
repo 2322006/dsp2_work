{
 "cells": [
  {
   "cell_type": "code",
   "execution_count": 1,
   "metadata": {},
   "outputs": [],
   "source": [
    "# 使うライブラリをインポート\n",
    "import sqlite3 #データベースに使用\n",
    "from bs4 import BeautifulSoup # HTMLコード解析に使用\n",
    "import requests # HTMLコード取得に使用\n",
    "import time # サーバーに負荷をかけないようにするために使用"
   ]
  },
  {
   "cell_type": "code",
   "execution_count": 2,
   "metadata": {},
   "outputs": [
    {
     "name": "stdout",
     "output_type": "stream",
     "text": [
      "{'pressure': '1009.8', 'temperature': '2.4', 'humidity': '62'}\n",
      "{'pressure': '1009.8', 'temperature': '1.7', 'humidity': '62'}\n",
      "{'pressure': '1008.9', 'temperature': '0.9', 'humidity': '65'}\n",
      "{'pressure': '1008.6', 'temperature': '1.5', 'humidity': '60'}\n",
      "{'pressure': '1008.2', 'temperature': '1.3', 'humidity': '65'}\n",
      "{'pressure': '1008.3', 'temperature': '0.9', 'humidity': '64'}\n",
      "{'pressure': '1008.2', 'temperature': '1.1', 'humidity': '55'}\n",
      "{'pressure': '1007.9', 'temperature': '1.8', 'humidity': '53'}\n",
      "{'pressure': '1007.2', 'temperature': '5.1', 'humidity': '48'}\n",
      "{'pressure': '1006.3', 'temperature': '8.5', 'humidity': '50'}\n",
      "{'pressure': '1005.3', 'temperature': '9.5', 'humidity': '41'}\n",
      "{'pressure': '1004.1', 'temperature': '11.6', 'humidity': '40'}\n",
      "{'pressure': '1003.3', 'temperature': '12.6', 'humidity': '39'}\n",
      "{'pressure': '1002.7', 'temperature': '13.0', 'humidity': '41'}\n",
      "{'pressure': '1003.0', 'temperature': '13.5', 'humidity': '42'}\n",
      "{'pressure': '1003.2', 'temperature': '12.3', 'humidity': '48'}\n",
      "{'pressure': '1003.6', 'temperature': '10.3', 'humidity': '57'}\n",
      "{'pressure': '1004.0', 'temperature': '9.9', 'humidity': '61'}\n",
      "{'pressure': '1004.8', 'temperature': '9.4', 'humidity': '58'}\n",
      "{'pressure': '1005.3', 'temperature': '9.5', 'humidity': '46'}\n",
      "{'pressure': '1005.6', 'temperature': '10.0', 'humidity': '45'}\n",
      "{'pressure': '1006.1', 'temperature': '8.8', 'humidity': '49'}\n",
      "{'pressure': '1006.5', 'temperature': '8.0', 'humidity': '51'}\n",
      "{'pressure': '1006.3', 'temperature': '6.4', 'humidity': '58'}\n"
     ]
    }
   ],
   "source": [
    "url = 'https://www.data.jma.go.jp/obd/stats/etrn/view/hourly_s1.php?prec_no=44&block_no=47662&year=2024&month=1&day=12&view=p1' # スクレイピングするURLを定義\n",
    "d_list =[] # 空のリストを作成\n",
    "r = requests.get(url) # \"requests\"ライブラリを使用して、指定されたURLに対してHTTP GETリクエストを送信し、レスポンスを変数\"r\"に格納\n",
    "r.encoding = 'utf-8' # 文字化けしていたため、変数\"r\"を'utf-8'にエンコーディング\n",
    "soup = BeautifulSoup(r.text, 'html.parser') # \"r.text\"で変数\"r\"のコードを解析し、Pythonで操作しやすい形に変換する。そして\"soup\"に格納。\"html.parser\"は解析器を指定している。\n",
    "\n",
    "# テーブル内の各行（tr要素）を取得\n",
    "for row in soup.find_all('tr', class_='mtx'): # \"soup\"のHTMLコードから、\"class_\"を指定し、trタグのみを取得。それをfor文で繰り返す。\n",
    "    items = row.find_all('td') # 各行内の各tdタグを取得\n",
    "\n",
    "    if len(items) >= 9:  # 表のセルが少なくとも9つあることを確認\n",
    "        cell2 = items[1].text # セル2のデータをそのまま取得\n",
    "        cell5 = items[4].text # セル5のデータをそのまま取得\n",
    "        cell8 = items[7].text # セル8のデータをそのまま取得\n",
    "        \n",
    "        # 辞書を作成\n",
    "        d = {\n",
    "            'pressure': cell2, # 気圧のデータ\n",
    "            'temperature': cell5, # 温度のデータ\n",
    "            'humidity': cell8, # 湿度のデータ\n",
    "        }\n",
    "        d_list.append(d) # 最後に繰り返し最初に作成したd_listに追加する\n",
    "\n",
    "# 結果を表示\n",
    "for a in d_list:\n",
    "    print(a)"
   ]
  },
  {
   "cell_type": "code",
   "execution_count": null,
   "metadata": {},
   "outputs": [],
   "source": []
  },
  {
   "cell_type": "code",
   "execution_count": null,
   "metadata": {},
   "outputs": [],
   "source": []
  },
  {
   "cell_type": "code",
   "execution_count": null,
   "metadata": {},
   "outputs": [],
   "source": []
  }
 ],
 "metadata": {
  "kernelspec": {
   "display_name": "Python 3",
   "language": "python",
   "name": "python3"
  },
  "language_info": {
   "codemirror_mode": {
    "name": "ipython",
    "version": 3
   },
   "file_extension": ".py",
   "mimetype": "text/x-python",
   "name": "python",
   "nbconvert_exporter": "python",
   "pygments_lexer": "ipython3",
   "version": "3.11.4"
  }
 },
 "nbformat": 4,
 "nbformat_minor": 2
}
