{
 "cells": [
  {
   "cell_type": "code",
   "execution_count": 1,
   "metadata": {},
   "outputs": [],
   "source": [
    "# 使うライブラリをインポート\n",
    "import sqlite3 #データベースに使用\n",
    "from bs4 import BeautifulSoup # HTMLコード解析に使用\n",
    "import requests # HTMLコード取得に使用\n",
    "import time # サーバーに負荷をかけないようにするために使用"
   ]
  },
  {
   "cell_type": "code",
   "execution_count": 2,
   "metadata": {},
   "outputs": [
    {
     "name": "stdout",
     "output_type": "stream",
     "text": [
      "{'pressure': '1013.4', 'temperature': '8.0', 'humidity': '5.7'}\n",
      "{'pressure': '1016.6', 'temperature': '27.5', 'humidity': '7.3'}\n",
      "{'pressure': '1016.2', 'temperature': '32.0', 'humidity': '12.9'}\n",
      "{'pressure': '1011.5', 'temperature': '33.0', 'humidity': '16.3'}\n",
      "{'pressure': '1011.0', 'temperature': '43.5', 'humidity': '19.0'}\n",
      "{'pressure': '1006.1', 'temperature': '168.5', 'humidity': '23.2'}\n",
      "{'pressure': '1007.2', 'temperature': '13.5', 'humidity': '28.7'}\n",
      "{'pressure': '1007.0', 'temperature': '48.5', 'humidity': '29.2'}\n",
      "{'pressure': '1009.7', 'temperature': '107.5', 'humidity': '26.7'}\n",
      "{'pressure': '1011.6', 'temperature': '43.5', 'humidity': '18.9'}\n",
      "{'pressure': '1013.9', 'temperature': '33.5', 'humidity': '14.4'}\n",
      "{'pressure': '1015.4', 'temperature': '15.5', 'humidity': '9.4'}\n"
     ]
    }
   ],
   "source": [
    "url = 'https://www.data.jma.go.jp/obd/stats/etrn/view/monthly_s1.php?prec_no=44&block_no=47662&year=2023&month=01&day=12&view=p1' # スクレイピングするURLを定義\n",
    "d_list =[] # 空のリストを作成\n",
    "r = requests.get(url) # \"requests\"ライブラリを使用して、指定されたURLに対してHTTP GETリクエストを送信し、レスポンスを変数\"r\"に格納\n",
    "r.encoding = 'utf-8' # 文字化けしていたため、変数\"r\"を'utf-8'にエンコーディング\n",
    "soup = BeautifulSoup(r.text, 'html.parser') # \"r.text\"で変数\"r\"のコードを解析し、Pythonで操作しやすい形に変換する。そして\"soup\"に格納。\"html.parser\"は解析器を指定している。\n",
    "\n",
    "# テーブル内の各行（tr要素）を取得\n",
    "for row in soup.find_all('tr', class_='mtx'): # \"soup\"のHTMLコードから、\"class_\"を指定し、trタグのみを取得。それをfor文で繰り返す。\n",
    "    items = row.find_all('td') # 各行内の各tdタグを取得\n",
    "\n",
    "    if len(items) >= 9:  # 表のセルが少なくとも9つあることを確認\n",
    "        cell2 = items[1].text # セル2のデータをそのまま取得\n",
    "        cell5 = items[4].text # セル5のデータをそのまま取得\n",
    "        cell8 = items[7].text # セル8のデータをそのまま取得\n",
    "        \n",
    "        # 辞書を作成\n",
    "        d = {\n",
    "            'pressure': cell2, # 気圧のデータ\n",
    "            'temperature': cell5, # 温度のデータ\n",
    "            'humidity': cell8, # 湿度のデータ\n",
    "        }\n",
    "        d_list.append(d) # 最後に繰り返し最初に作成したd_listに追加する\n",
    "\n",
    "# 結果を表示\n",
    "for a in d_list:\n",
    "    print(a)"
   ]
  },
  {
   "cell_type": "code",
   "execution_count": 3,
   "metadata": {},
   "outputs": [],
   "source": [
    "# DBファイルを保存するためのファイルパス\n",
    "path = '/Users/macuser/Desktop/dsp2_work/' # ローカル（自分のMac）\n",
    "\n",
    "# DBファイル名\n",
    "db_name = 'db.sqlite'\n",
    "\n",
    "# DBに接続する（指定したDBファイル存在しない場合は，新規に作成される）\n",
    "con = sqlite3.connect(path + db_name)\n",
    "\n",
    "# DBへの接続を閉じる\n",
    "con.close()"
   ]
  },
  {
   "cell_type": "code",
   "execution_count": 4,
   "metadata": {},
   "outputs": [],
   "source": [
    "# 1．DBに接続する\n",
    "con = sqlite3.connect(path + db_name)\n",
    "# print(type(con))\n",
    "\n",
    "# 2．SQLを実行するためのオブジェクトを取得\n",
    "cur = con.cursor()\n",
    "\n",
    "# 既存のテーブルがある場合は削除する（エラー解消のため）\n",
    "cur.execute('DROP TABLE IF EXISTS weather_data;')\n",
    "\n",
    "# 3．実行したいSQLを用意する\n",
    "# テーブルを作成するSQL\n",
    "# CREATE TABLE テーブル名（カラム名 型，...）;\n",
    "sql_create_table = 'CREATE TABLE weather_data(pressure int, temperature int, humidity int);'\n",
    "\n",
    "# 4．SQLを実行する\n",
    "cur.execute(sql_create_table)\n",
    "\n",
    "# d_listの情報をデータベースに追加する\n",
    "for item in d_list:\n",
    "    cur.execute('''\n",
    "        INSERT INTO weather_data (pressure, temperature, humidity)\n",
    "        VALUES (?, ?, ?)\n",
    "    ''', (item['pressure'], item['temperature'], item['humidity']))\n",
    "\n",
    "# 5．必要があればコミットする（データ変更等があった場合）\n",
    "# 今回は念の為コミットしておく\n",
    "con.commit()\n",
    "\n",
    "# 6．DBへの接続を閉じる\n",
    "con.close()"
   ]
  },
  {
   "cell_type": "code",
   "execution_count": 5,
   "metadata": {},
   "outputs": [
    {
     "name": "stdout",
     "output_type": "stream",
     "text": [
      "(1013.4, 8, 5.7)\n",
      "(1016.6, 27.5, 7.3)\n",
      "(1016.2, 32, 12.9)\n",
      "(1011.5, 33, 16.3)\n",
      "(1011, 43.5, 19)\n",
      "(1006.1, 168.5, 23.2)\n",
      "(1007.2, 13.5, 28.7)\n",
      "(1007, 48.5, 29.2)\n",
      "(1009.7, 107.5, 26.7)\n",
      "(1011.6, 43.5, 18.9)\n",
      "(1013.9, 33.5, 14.4)\n",
      "(1015.4, 15.5, 9.4)\n"
     ]
    }
   ],
   "source": [
    "# 1．DBに接続する\n",
    "con = sqlite3.connect(path + db_name)\n",
    "\n",
    "# 2．SQLを実行するためのオブジェクトを取得\n",
    "cur = con.cursor()\n",
    "\n",
    "# 3．SQLを用意\n",
    "# SELECT * FROM テーブル名;\n",
    "# *の部分は取得したい列の名前をカンマ区切りで指定することもできる\n",
    "sql_select = 'SELECT * FROM weather_data;'\n",
    "\n",
    "# 4．SQLを実行\n",
    "cur.execute(sql_select)\n",
    "\n",
    "# 5．結果を取得\n",
    "result = cur.fetchall()\n",
    "\n",
    "# 6．結果を表示\n",
    "for row in result:\n",
    "    print(row)\n",
    "\n",
    "# 7．DBへの接続を閉じる\n",
    "con.close()"
   ]
  }
 ],
 "metadata": {
  "kernelspec": {
   "display_name": "Python 3",
   "language": "python",
   "name": "python3"
  },
  "language_info": {
   "codemirror_mode": {
    "name": "ipython",
    "version": 3
   },
   "file_extension": ".py",
   "mimetype": "text/x-python",
   "name": "python",
   "nbconvert_exporter": "python",
   "pygments_lexer": "ipython3",
   "version": "3.11.4"
  }
 },
 "nbformat": 4,
 "nbformat_minor": 2
}
